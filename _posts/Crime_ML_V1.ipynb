{
 "cells": [
  {
   "cell_type": "code",
   "execution_count": 1,
   "metadata": {},
   "outputs": [],
   "source": [
    "import pandas as pd\n",
    "import numpy as np"
   ]
  },
  {
   "cell_type": "code",
   "execution_count": 6,
   "metadata": {},
   "outputs": [],
   "source": [
    "# read summary file\n",
    "df_summary_month=pd.read_csv('d:\\\\summary_crime.csv')\n",
    "df_summary_month.info()"
   ]
  },
  {
   "cell_type": "code",
   "execution_count": null,
   "metadata": {},
   "outputs": [],
   "source": [
    "train_x, test_x, train_label, test_label = splitTimeSeries(df_summary_month.filter()   )"
   ]
  },
  {
   "cell_type": "code",
   "execution_count": 4,
   "metadata": {},
   "outputs": [],
   "source": [
    "\n",
    "def splitTimeSeries(df_train,labels,percentage):\n",
    "    train_size = int(len(df_train) * 0.8)\n",
    "    train_x     ,    test_x      = df_train[0:train_size], df_train[train_size:len(df_train)]\n",
    "    train_label ,  test_label   = labels[0:train_size], labels[train_size:len(df_train)] \n",
    "    return train_x, test_x, train_label, test_label"
   ]
  },
  {
   "cell_type": "code",
   "execution_count": 20,
   "metadata": {},
   "outputs": [],
   "source": [
    "#df_summary_month.drop(columns='NoOfCrimes'), df_summary_month.filter(['NoOfCrimes'])\n",
    "#df_summary_month.filter(['NoOfCrimes'])\n",
    "\n",
    "\n",
    "train_x, test_x, train_label, test_label = splitTimeSeries(df_summary_month.filter(['BORO_NM','LAW_CAT_CD','Year','Month']), df_summary_month.filter(['NoOfCrimes']),0.8)"
   ]
  },
  {
   "cell_type": "code",
   "execution_count": 7,
   "metadata": {},
   "outputs": [
    {
     "name": "stdout",
     "output_type": "stream",
     "text": [
      "<class 'pandas.core.frame.DataFrame'>\n",
      "RangeIndex: 1620 entries, 0 to 1619\n",
      "Data columns (total 6 columns):\n",
      "Unnamed: 0    1620 non-null int64\n",
      "BORO_NM       1620 non-null object\n",
      "LAW_CAT_CD    1620 non-null object\n",
      "Year          1620 non-null float64\n",
      "Month         1620 non-null float64\n",
      "NoOfCrimes    1620 non-null int64\n",
      "dtypes: float64(2), int64(2), object(2)\n",
      "memory usage: 76.1+ KB\n"
     ]
    }
   ],
   "source": []
  },
  {
   "cell_type": "code",
   "execution_count": 22,
   "metadata": {},
   "outputs": [
    {
     "data": {
      "text/html": [
       "<div>\n",
       "<style scoped>\n",
       "    .dataframe tbody tr th:only-of-type {\n",
       "        vertical-align: middle;\n",
       "    }\n",
       "\n",
       "    .dataframe tbody tr th {\n",
       "        vertical-align: top;\n",
       "    }\n",
       "\n",
       "    .dataframe thead th {\n",
       "        text-align: right;\n",
       "    }\n",
       "</style>\n",
       "<table border=\"1\" class=\"dataframe\">\n",
       "  <thead>\n",
       "    <tr style=\"text-align: right;\">\n",
       "      <th></th>\n",
       "      <th>BORO_NM</th>\n",
       "      <th>LAW_CAT_CD</th>\n",
       "      <th>Year</th>\n",
       "      <th>Month</th>\n",
       "    </tr>\n",
       "  </thead>\n",
       "  <tbody>\n",
       "    <tr>\n",
       "      <th>1296</th>\n",
       "      <td>STATEN ISLAND</td>\n",
       "      <td>FELONY</td>\n",
       "      <td>2017.0</td>\n",
       "      <td>2.0</td>\n",
       "    </tr>\n",
       "    <tr>\n",
       "      <th>1297</th>\n",
       "      <td>STATEN ISLAND</td>\n",
       "      <td>FELONY</td>\n",
       "      <td>2017.0</td>\n",
       "      <td>3.0</td>\n",
       "    </tr>\n",
       "    <tr>\n",
       "      <th>1298</th>\n",
       "      <td>QUEENS</td>\n",
       "      <td>MISDEMEANOR</td>\n",
       "      <td>2017.0</td>\n",
       "      <td>7.0</td>\n",
       "    </tr>\n",
       "    <tr>\n",
       "      <th>1299</th>\n",
       "      <td>MANHATTAN</td>\n",
       "      <td>VIOLATION</td>\n",
       "      <td>2016.0</td>\n",
       "      <td>5.0</td>\n",
       "    </tr>\n",
       "    <tr>\n",
       "      <th>1300</th>\n",
       "      <td>STATEN ISLAND</td>\n",
       "      <td>FELONY</td>\n",
       "      <td>2012.0</td>\n",
       "      <td>1.0</td>\n",
       "    </tr>\n",
       "    <tr>\n",
       "      <th>...</th>\n",
       "      <td>...</td>\n",
       "      <td>...</td>\n",
       "      <td>...</td>\n",
       "      <td>...</td>\n",
       "    </tr>\n",
       "    <tr>\n",
       "      <th>1615</th>\n",
       "      <td>STATEN ISLAND</td>\n",
       "      <td>VIOLATION</td>\n",
       "      <td>2013.0</td>\n",
       "      <td>12.0</td>\n",
       "    </tr>\n",
       "    <tr>\n",
       "      <th>1616</th>\n",
       "      <td>STATEN ISLAND</td>\n",
       "      <td>VIOLATION</td>\n",
       "      <td>2016.0</td>\n",
       "      <td>4.0</td>\n",
       "    </tr>\n",
       "    <tr>\n",
       "      <th>1617</th>\n",
       "      <td>STATEN ISLAND</td>\n",
       "      <td>VIOLATION</td>\n",
       "      <td>2013.0</td>\n",
       "      <td>10.0</td>\n",
       "    </tr>\n",
       "    <tr>\n",
       "      <th>1618</th>\n",
       "      <td>STATEN ISLAND</td>\n",
       "      <td>VIOLATION</td>\n",
       "      <td>2016.0</td>\n",
       "      <td>12.0</td>\n",
       "    </tr>\n",
       "    <tr>\n",
       "      <th>1619</th>\n",
       "      <td>STATEN ISLAND</td>\n",
       "      <td>VIOLATION</td>\n",
       "      <td>2015.0</td>\n",
       "      <td>1.0</td>\n",
       "    </tr>\n",
       "  </tbody>\n",
       "</table>\n",
       "<p>324 rows × 4 columns</p>\n",
       "</div>"
      ],
      "text/plain": [
       "            BORO_NM   LAW_CAT_CD    Year  Month\n",
       "1296  STATEN ISLAND       FELONY  2017.0    2.0\n",
       "1297  STATEN ISLAND       FELONY  2017.0    3.0\n",
       "1298         QUEENS  MISDEMEANOR  2017.0    7.0\n",
       "1299      MANHATTAN    VIOLATION  2016.0    5.0\n",
       "1300  STATEN ISLAND       FELONY  2012.0    1.0\n",
       "...             ...          ...     ...    ...\n",
       "1615  STATEN ISLAND    VIOLATION  2013.0   12.0\n",
       "1616  STATEN ISLAND    VIOLATION  2016.0    4.0\n",
       "1617  STATEN ISLAND    VIOLATION  2013.0   10.0\n",
       "1618  STATEN ISLAND    VIOLATION  2016.0   12.0\n",
       "1619  STATEN ISLAND    VIOLATION  2015.0    1.0\n",
       "\n",
       "[324 rows x 4 columns]"
      ]
     },
     "execution_count": 22,
     "metadata": {},
     "output_type": "execute_result"
    }
   ],
   "source": []
  },
  {
   "cell_type": "code",
   "execution_count": null,
   "metadata": {},
   "outputs": [],
   "source": []
  }
 ],
 "metadata": {
  "kernelspec": {
   "display_name": "Python 3",
   "language": "python",
   "name": "python3"
  },
  "language_info": {
   "codemirror_mode": {
    "name": "ipython",
    "version": 3
   },
   "file_extension": ".py",
   "mimetype": "text/x-python",
   "name": "python",
   "nbconvert_exporter": "python",
   "pygments_lexer": "ipython3",
   "version": "3.7.5"
  }
 },
 "nbformat": 4,
 "nbformat_minor": 2
}
